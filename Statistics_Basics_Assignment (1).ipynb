{
  "nbformat": 4,
  "nbformat_minor": 0,
  "metadata": {
    "colab": {
      "provenance": []
    },
    "kernelspec": {
      "name": "python3",
      "display_name": "Python 3"
    },
    "language_info": {
      "name": "python"
    }
  },
  "cells": [
    {
      "cell_type": "markdown",
      "source": [
        "# Statistics Basics Assignment(Theory)"
      ],
      "metadata": {
        "id": "G2yKbT4Wdd5O"
      }
    },
    {
      "cell_type": "markdown",
      "source": [
        "1. What is statistics, and why is it important?"
      ],
      "metadata": {
        "id": "9HhSdMnxduw4"
      }
    },
    {
      "cell_type": "markdown",
      "source": [
        "Statistics is a branch of mathematics that involves collecting, analyzing, and interpreting data to gain insights, make predictions, and draw conclusions. It's important because it helps us understand patterns, trends, and relationships within data, enabling us to make informed decisions in various fields like business, science, and policy.\n",
        "\n",
        "Why is Statistics Important?\n",
        "\n",
        "1. Understanding Complex Data:\n",
        "Statistics provides tools to make sense of large and complex datasets, revealing patterns and relationships that might not be apparent otherwise.\n",
        "2. Making Informed Decisions:\n",
        "Statistical analysis helps us make better decisions based on data rather than intuition or guesswork.\n",
        "3. Predicting Future Trends:\n",
        "Statistics can be used to make predictions about future events or outcomes based on historical data.\n",
        "4. Evaluating Claims and Hypotheses:\n",
        "Statistical methods allow us to evaluate the validity of claims and hypotheses by determining if the evidence supports them.\n",
        "5. Improving Research:\n",
        "Statistics is crucial in various research fields, allowing researchers to design experiments, analyze results, and draw meaningful conclusions."
      ],
      "metadata": {
        "id": "pibO-uJjeA8a"
      }
    },
    {
      "cell_type": "markdown",
      "source": [
        "2. What are the two main types of statistics?"
      ],
      "metadata": {
        "id": "l0VpfDnAeWe2"
      }
    },
    {
      "cell_type": "markdown",
      "source": [
        "The two main types of statistics are Descriptive Statistics and Inferential Statistics. Descriptive statistics focuses on summarizing and describing the basic features of a dataset, while inferential statistics uses sample data to make inferences and predictions about a larger population."
      ],
      "metadata": {
        "id": "ARpo8mhkecFl"
      }
    },
    {
      "cell_type": "markdown",
      "source": [
        "3. What are descriptive statistics?"
      ],
      "metadata": {
        "id": "bCWMeE84eo7I"
      }
    },
    {
      "cell_type": "markdown",
      "source": [
        "Descriptive statistics provide concise summaries of data, helping you understand its main features. They include measures like the average (mean), the most frequent value (mode), and how spread out the data is (variance, standard deviation). Essentially, descriptive statistics describe what a dataset looks like.\n",
        "\n",
        "Elaboration:\n",
        "\n",
        "1. Purpose:\n",
        "Descriptive statistics are used to describe the characteristics of a dataset, such as the average score on a test or the range of customer ages.\n",
        "2. Measures of Central Tendency:\n",
        "\n",
        "These describe the \"average\" of a dataset. Examples include:\n",
        "\n",
        "(A). Mean: The average of all values.\n",
        "\n",
        "(B). Median: The middle value when the data is ordered.\n",
        "\n",
        "(C). Mode: The most frequent value.\n",
        "\n",
        "3. Measures of Variability:\n",
        "These describe how spread out the data is. Examples include:\n",
        "\n",
        "(A). Range: The difference between the highest and lowest values.\n",
        "(B). Variance: The average of the squared differences from the mean.\n",
        "(C). Standard Deviation: The square root of the variance.\n",
        "4. Graphical Representations:\n",
        "Descriptive statistics can also be presented visually through graphs and charts like histograms, box plots, and scatter plots.\n",
        "5. Inferences:\n",
        "Descriptive statistics focus on describing the sample or population data, and do not draw conclusions or make generalizations about a larger population."
      ],
      "metadata": {
        "id": "YN5iV2ZoeuTQ"
      }
    },
    {
      "cell_type": "markdown",
      "source": [
        "4. What is inferential statistics?"
      ],
      "metadata": {
        "id": "a0Qtxp2VfghY"
      }
    },
    {
      "cell_type": "markdown",
      "source": [
        "Inferential statistics uses sample data to make inferences or draw conclusions about a larger population. It's a branch of statistics that allows researchers to generalize findings from a smaller group to a broader group without having to examine the entire population.\n",
        "\n",
        "Here's a more detailed explanation:\n",
        "\n",
        "1. Sample vs. Population:\n",
        "Inferential statistics relies on the idea that a well-chosen sample can represent the characteristics of a larger population.\n",
        "2. Inference and Generalization:\n",
        "The primary goal is to use the sample data to make inferences or generalizations about the population, such as estimating population parameters or testing hypotheses.\n",
        "3. Examples:\n",
        "\n",
        "(A). Estimating the average height of all adults in a country: Instead of measuring every adult, researchers can take a sample of adults and use their data to estimate the average height of the population.\n",
        "\n",
        "(B). Testing if a new drug is effective: Researchers can test the drug on a sample of patients and use statistical methods to determine if the results are significant and can be generalized to all patients.\n",
        "4. Methods:\n",
        "Inferential statistics utilizes various techniques like hypothesis testing, confidence intervals, and regression analysis to draw conclusions about the population."
      ],
      "metadata": {
        "id": "3henXGirfof0"
      }
    },
    {
      "cell_type": "markdown",
      "source": [
        "5. What is sampling in statistics?"
      ],
      "metadata": {
        "id": "nYw54S7agPqu"
      }
    },
    {
      "cell_type": "markdown",
      "source": [
        "In statistics, sampling is the process of selecting a subset of individuals from a larger group (the population) to study and draw inferences about the larger population. It's a way to efficiently gather information and make generalizations without having to examine every single member of the population.\n",
        "\n",
        "Key aspects of sampling:\n",
        "1. Population: The entire group of individuals about which researchers want to make inferences.\n",
        "2. Sample: A subset of the population that is selected for study.\n",
        "Representative sample: A sample that accurately reflects the characteristics of the population.\n",
        "3. Sampling error: The difference between the characteristics of the sample and the population.\n",
        "4. Sampling methods: Various techniques for selecting a sample, including probability sampling (e.g., random sampling, stratified sampling) and non-probability sampling (e.g., convenience sampling)."
      ],
      "metadata": {
        "id": "by6AkugAr4ER"
      }
    },
    {
      "cell_type": "markdown",
      "source": [
        "6. What are the different types of sampling methods?\n"
      ],
      "metadata": {
        "id": "_FKX-ro3sL8M"
      }
    },
    {
      "cell_type": "markdown",
      "source": [
        "Sampling methods are techniques used to select a representative subset of a population for research or analysis. There are two main categories: probability and non-probability sampling.\n",
        "\n",
        "Probability Sampling Methods:\n",
        "1. Simple Random Sampling: Each member of the population has an equal chance of being selected.\n",
        "2. Stratified Sampling: The population is divided into subgroups (strata) based on shared characteristics, and then a random sample is taken from each stratum.\n",
        "3. Cluster Sampling: The population is divided into clusters, and then one or more clusters are randomly selected for study.\n",
        "4. Systematic Sampling: Every nth member of the population is selected.\n",
        "Multistage Sampling: A combination of different sampling methods is used in multiple stages.\n",
        "\n",
        "Non-Probability Sampling Methods:\n",
        "1. Convenience Sampling: Participants are selected based on ease of access.\n",
        "2. Purposive Sampling (Judgmental Sampling): Participants are selected based on the researcher's judgment or knowledge of the population.\n",
        "3. Snowball Sampling: Participants are asked to refer other participants who fit the research criteria.\n",
        "4. Quota Sampling: Participants are selected to match the proportions of subgroups in the population.\n",
        "5. Self-Selected Sampling: Participants volunteer to participate."
      ],
      "metadata": {
        "id": "JbojBHQYsSFl"
      }
    },
    {
      "cell_type": "markdown",
      "source": [
        "7. What is the difference between random and non-random sampling?"
      ],
      "metadata": {
        "id": "VTgLfgZftAcT"
      }
    },
    {
      "cell_type": "markdown",
      "source": [
        "The key difference lies in the selection process: random sampling uses chance to ensure each member has an equal opportunity of being selected, while non-random sampling uses criteria like convenience, judgment, or specific researcher choices.\n",
        "\n",
        "Random Sampling:\n",
        "1. Definition:\n",
        "Random sampling involves selecting individuals from a population in such a way that each member has a known and equal probability of being chosen.\n",
        "2. Example:\n",
        "Drawing names from a hat, or using a random number generator to select participants.\n",
        "3. Benefits:\n",
        "Minimizes bias, provides a representative sample, and allows for statistical inference about the population.\n",
        "4. Methods:\n",
        "Includes techniques like simple random sampling, stratified random sampling, cluster sampling, and systematic sampling.\n",
        "5. Limitations:\n",
        "Can be time-consuming and expensive, and may not always be feasible, especially if the population is difficult to define or access.\n",
        "\n",
        "Non-Random Sampling:\n",
        "1. Definition:\n",
        "Non-random sampling involves selecting individuals based on specific criteria, convenience, or the researcher's judgment.\n",
        "2. Example:\n",
        "Conducting a survey at a mall, interviewing people who are available, or selecting experts in a particular field.\n",
        "3. Benefits:\n",
        "Often faster and cheaper than random sampling, can be useful for exploratory studies, and may be necessary when access to a full population is limited.\n",
        "4. Methods:\n",
        "Includes techniques like convenience sampling, purposive sampling, quota sampling, and snowball sampling.\n",
        "5. Limitations:\n",
        "May introduce bias, can't generalize findings to the larger population, and may not be suitable for conclusive research."
      ],
      "metadata": {
        "id": "QTfeIv3otGcM"
      }
    },
    {
      "cell_type": "markdown",
      "source": [
        "8. Define and give examples of qualitative and quantitative data?"
      ],
      "metadata": {
        "id": "-g9MNYPEuy7t"
      }
    },
    {
      "cell_type": "markdown",
      "source": [
        "Qualitative data describes qualities or characteristics that can't be measured numerically, while quantitative data describes quantities that can be measured numerically.\n",
        "\n",
        "Qualitative Data:\n",
        "1. Definition: Information that is not expressed numerically and is often used to understand the qualities, characteristics, or meanings behind something.\n",
        "2. Examples:\n",
        "The color of a flower (red, blue, yellow).\n",
        "The taste of an apple (sweet, tart, acidic).\n",
        "A person's opinion on a product (positive, negative, neutral).\n",
        "Ethnographic observations (describing cultural practices).\n",
        "3. Data Collection Methods: Interviews, focus groups, observations, document analysis.\n",
        "\n",
        "Quantitative Data:\n",
        "1. Definition: Information that can be expressed numerically and is used to measure or count things.\n",
        "2. Examples:\n",
        "\n",
        "(A). Height (in inches or centimeters).\n",
        "\n",
        "(B). Weight (in pounds or kilograms).\n",
        "\n",
        "(C). Age (in years).\n",
        "\n",
        "(D). The number of students in a class.\n",
        "3. Data Collection Methods: Surveys, experiments, statistical data collection."
      ],
      "metadata": {
        "id": "gYS7SFjmt8F0"
      }
    },
    {
      "cell_type": "markdown",
      "source": [
        "9. What are the different types of data in statistics?"
      ],
      "metadata": {
        "id": "gFHRkSk6u7Tt"
      }
    },
    {
      "cell_type": "markdown",
      "source": [
        "In statistics, data is broadly classified into qualitative (categorical) and quantitative (numerical) data. Qualitative data describes qualities or attributes, while quantitative data represents quantities or can be measured numerically.\n",
        "\n",
        "Qualitative (Categorical) Data:\n",
        "1. Nominal:\n",
        "Categories without a natural order or ranking (e.g., colors, genders, types of fruits).\n",
        "2. Ordinal:\n",
        "Categories with a meaningful order or ranking, but the differences between categories may not be equal (e.g., survey responses on a Likert scale, rankings in a sports competition).\n",
        "\n",
        "Quantitative (Numerical) Data:\n",
        "1. Discrete:\n",
        "Data that can only take on specific, separate values, often whole numbers (e.g., number of cars, number of students, number of occurrences).\n",
        "2. Continuous:\n",
        "Data that can take any value within a given range (e.g., height, weight, temperature)."
      ],
      "metadata": {
        "id": "afJHrlmGvF2I"
      }
    },
    {
      "cell_type": "markdown",
      "source": [
        "10. Explain nominal, ordinal, interval, and ratio levels of measurement?"
      ],
      "metadata": {
        "id": "Nz0k2vFbvkkD"
      }
    },
    {
      "cell_type": "markdown",
      "source": [
        "1. Nominal:\n",
        "This is the most basic level, where data is categorized into distinct groups with no inherent order or ranking. Examples include colors, types of fruit, or car models.\n",
        "2. Ordinal:\n",
        "Ordinal data adds an order or ranking to the categories. While you know which category comes first, second, etc., you don't know the exact difference between the categories. Examples include rankings in a competition, customer satisfaction surveys (very dissatisfied, dissatisfied, neutral, satisfied, very satisfied), or education level.\n",
        "3. Interval:\n",
        "Interval data has all the properties of ordinal data, but the intervals between values are equal and meaningful. A zero point might exist, but it's arbitrary and doesn't indicate the absence of the quantity. Examples include temperature in Celsius or Fahrenheit, or calendar years.\n",
        "4. Ratio:\n",
        "Ratio data is the most sophisticated level. It has all the properties of interval data, plus a true zero point, meaning zero represents the complete absence of the quantity being measured. Examples include height, weight, age, or income."
      ],
      "metadata": {
        "id": "i2san7D-vrxE"
      }
    },
    {
      "cell_type": "markdown",
      "source": [
        "11. What is the measure of central tendency?"
      ],
      "metadata": {
        "id": "Bk3zyaJPv_lG"
      }
    },
    {
      "cell_type": "markdown",
      "source": [
        "Measures of central tendency are statistics that represent the central or typical value of a dataset. They help summarize data by providing a single value that represents the \"middle\" of the data distribution. The three main measures are:\n",
        "1. Mean: The average of all data points.\n",
        "2. Median: The middle value when the data is ordered.\n",
        "3. Mode: The most frequently occurring value in the dataset."
      ],
      "metadata": {
        "id": "pM2IA2UPwHwY"
      }
    },
    {
      "cell_type": "markdown",
      "source": [
        "12. Define mean, median, and mode?"
      ],
      "metadata": {
        "id": "UJ-RFF9KwWGp"
      }
    },
    {
      "cell_type": "markdown",
      "source": [
        "Mean is the average of a dataset, found by summing all values and dividing by the number of values. Median is the middle value in a sorted dataset, with the middle being the value if the dataset has an odd number of values, and the average of the two middle values if even. Mode is the value that appears most frequently in a dataset.\n",
        "\n",
        "1. Mean (Average)\n",
        "\n",
        "(A). The mean is calculated by summing all the numbers in a dataset and then dividing by the total number of values in the dataset.\n",
        "\n",
        "(B). It represents the average value of the data.\n",
        "\n",
        "2. Median\n",
        "\n",
        "(A). The median is the middle value in a sorted dataset.\n",
        "\n",
        "(B). To find the median, you need to first arrange the data in ascending order.\n",
        "\n",
        "(C). If the dataset has an odd number of values, the median is the middle value.\n",
        "\n",
        "(D). If the dataset has an even number of values, the median is the average of the two middle values.\n",
        "\n",
        "3. Mode\n",
        "\n",
        "(A). The mode is the value that appears most frequently in a dataset.\n",
        "\n",
        "(B). To find the mode, you need to count how many times each value appears in the dataset.\n",
        "\n",
        "(C).The value that appears most often is the mode."
      ],
      "metadata": {
        "id": "E8AT8L5Mwbsb"
      }
    },
    {
      "cell_type": "markdown",
      "source": [
        "13. What is the significance of the measure of central tendency?"
      ],
      "metadata": {
        "id": "qXHIRZpcxS9b"
      }
    },
    {
      "cell_type": "markdown",
      "source": [
        "Measures of central tendency (mean, median, mode) are important because they provide a single, representative value that summarizes the typical value or center of a dataset.\n",
        "\n",
        "Here's a more detailed explanation of their significance:\n",
        "\n",
        "1. Summarizing Data:\n",
        "\n",
        "(A). Measures of central tendency condense a large dataset into a single, representative number.\n",
        "\n",
        "(B). This single value provides a quick understanding of the typical or average value within the dataset.\n",
        "\n",
        "(C). It allows for easier comparison of different datasets or groups of data.\n",
        "2. Understanding Data Distribution:\n",
        "\n",
        "(A). Central tendency helps to understand where the center of the data distribution is located.\n",
        "\n",
        "(B). Knowing the center provides a reference point for comparing individual data points to the overall data set.\n",
        "\n",
        "(C). It can reveal information about how data is dispersed around the center.\n",
        "3. Facilitating Statistical Analysis:\n",
        "\n",
        "(A). Measures of central tendency are fundamental in many statistical analyses.\n",
        "\n",
        "(B). They serve as a basis for understanding data patterns, trends, and relationships.\n",
        "\n",
        "(C). They are used in various applications, from basic operational decision-making to strategic planning.\n",
        "\n",
        "4. Practical Applications:\n",
        "\n",
        "(A). In business, they can inform decisions about pricing, compensation, and inventory management.\n",
        "\n",
        "(B). In research, they are used to summarize data and make comparisons between different groups or conditions.\n",
        "\n",
        "(C). They can also be used to assess the validity of claims or to estimate the likelihood of future events.\n",
        "\n",
        "5. Choosing the Right Measure:\n",
        "\n",
        "(A). Different measures of central tendency (mean, median, mode) are appropriate for different types of data and situations.\n",
        "\n",
        "(B). The mean is most frequently used, but the median is better for skewed distributions, while the mode is useful for categorical data.\n",
        "\n",
        "(C). Understanding the strengths and weaknesses of each measure is crucial for selecting the most appropriate one for a particular application."
      ],
      "metadata": {
        "id": "jT1ntjqGxe5M"
      }
    },
    {
      "cell_type": "markdown",
      "source": [
        "14. What is variance, and how is it calculated?"
      ],
      "metadata": {
        "id": "b_5ogBTKyzXJ"
      }
    },
    {
      "cell_type": "markdown",
      "source": [
        "Variance is a statistical measure that quantifies the dispersion or spread of a set of data points. It essentially indicates how much the data values deviate from the mean (average) of the data set. A higher variance suggests a wider spread of data points, while a lower variance indicates they are clustered closer to the mean.\n",
        "\n",
        "Here's how it's calculated:\n",
        "1. Calculate the Mean:\n",
        "\n",
        "(A). Add all the values in the data set together.\n",
        "\n",
        "(B). Divide the sum by the total number of values in the set.\n",
        "2. Calculate the Differences from the Mean:\n",
        "(A). For each data point, subtract the mean from the data point value.\n",
        "\n",
        "(B). This results in a set of differences.\n",
        "\n",
        "3. Square the Differences:\n",
        "\n",
        "(A). Square each of the differences calculated in step 2. This makes all the values positive and emphasizes the magnitude of the deviations.\n",
        "4. Calculate the Average of the Squared Differences:\n",
        "\n",
        "(A). Add up all the squared differences from step 3.\n",
        "\n",
        "(B). Divide the sum by the total number of values in the set (for population variance) or by the number of values minus 1 (for sample variance).\n",
        "\n",
        "Formula:\n",
        "\n",
        "Population Variance (σ²).\n",
        "\n",
        "σ² = Σ(xᵢ - μ)² / N\n",
        "\n",
        "Where:\n",
        "\n",
        "xᵢ = each data point in the population\n",
        "\n",
        "μ = the population mean\n",
        "\n",
        "N = the number of data points in the population\n",
        "\n",
        "Σ represents the summation across all data points.\n",
        "\n",
        "Sample Variance (s²):\n",
        "\n",
        "s² = Σ(xᵢ - x̄)² / (n - 1)\n",
        "\n",
        "Where:\n",
        "\n",
        "xᵢ = each data point in the sample\n",
        "\n",
        "x̄ = the sample mean\n",
        "\n",
        "n = the number of data points in the sample.\n",
        "\n",
        "In simpler terms: Variance is the average of the squared differences of each data point from the mean."
      ],
      "metadata": {
        "id": "WeAGw0K8y8ai"
      }
    },
    {
      "cell_type": "markdown",
      "source": [
        "15. What is standard deviation, and why is it important?"
      ],
      "metadata": {
        "id": "Eqo3HAiE0Imt"
      }
    },
    {
      "cell_type": "markdown",
      "source": [
        "Standard deviation is a statistical measure that describes the spread or dispersion of a dataset around its mean. It quantifies how much individual data points deviate from the average value. A low standard deviation indicates data points are clustered tightly around the mean, while a high standard deviation suggests a wider spread of data.\n",
        "\n",
        "Why is standard deviation important?\n",
        "1. Data Variability:\n",
        "It provides insight into how much the data varies from the average, helping to understand the reliability and consistency of the data.\n",
        "2. Making Comparisons:\n",
        "Standard deviation allows for comparing the variability of different datasets, even those with different means.\n",
        "3. Understanding Risk:\n",
        "In finance and other fields, standard deviation helps assess the risk associated with investments or other ventures, as it measures the potential volatility of outcomes.\n",
        "4. Quality Control:\n",
        "In manufacturing and other industries, standard deviation is used to monitor the consistency of products and ensure they meet quality standards.\n",
        "5. Statistical Inference:\n",
        "It is a fundamental concept in statistical analysis, enabling the calculation of confidence intervals, hypothesis testing, and other statistical procedures."
      ],
      "metadata": {
        "id": "dZDMT3Vt0Ozt"
      }
    },
    {
      "cell_type": "markdown",
      "source": [
        "16. Define and explain the term range in statistics?"
      ],
      "metadata": {
        "id": "y-D-ayQr0x7T"
      }
    },
    {
      "cell_type": "markdown",
      "source": [
        "In statistics, the range is a simple measure of variability that represents the difference between the highest and lowest values in a dataset. It provides a quick overview of the spread or dispersion of the data.\n",
        "\n",
        "Definition and Calculation:\n",
        "1. Definition: The range is the difference between the maximum and minimum values within a dataset.\n",
        "2. Calculation: Range = Highest Value - Lowest Value.\n",
        "\n",
        "Example:\n",
        "\n",
        "If a dataset contains the values {2, 4, 6, 8, 12}, the range would be calculated as:\n",
        "\n",
        "Range = 12 - 2 = 10\n",
        "\n",
        "Significance:\n",
        "1. Spread of data: The range provides a general idea of how spread out the data points are.\n",
        "2. Easy to calculate: It is one of the simplest measures of variability to calculate.\n",
        "3. Limitations: The range is sensitive to outliers (extreme values) and can be misleading if the dataset has a small number of values.\n"
      ],
      "metadata": {
        "id": "TOrcywkl08Bl"
      }
    },
    {
      "cell_type": "markdown",
      "source": [
        "17. What is the difference between variance and standard deviation?"
      ],
      "metadata": {
        "id": "MATYBFKk1nYj"
      }
    },
    {
      "cell_type": "markdown",
      "source": [
        "Variance and standard deviation are both measures of data spread, but they differ in how they are expressed. Variance is the average of the squared differences from the mean, while standard deviation is the square root of the variance.\n",
        "\n",
        "Elaboration:\n",
        "\n",
        "Variance:\n",
        "1. Measures the average squared difference between each data point and the mean.\n",
        "2. Is expressed in squared units of the original data.\n",
        "3. Larger variance indicates greater spread or dispersion in the data.\n",
        "\n",
        "Standard Deviation:\n",
        "1. Is the square root of the variance.\n",
        "2. Is expressed in the same units as the original data.\n",
        "3. Larger standard deviation indicates greater spread or dispersion in the data."
      ],
      "metadata": {
        "id": "oeCS0ZWM1cbR"
      }
    },
    {
      "cell_type": "markdown",
      "source": [
        "18. What is skewness in a dataset?"
      ],
      "metadata": {
        "id": "33mEozNz1_6G"
      }
    },
    {
      "cell_type": "markdown",
      "source": [
        "Skewness in a dataset refers to the measure of its asymmetry, or the lack of symmetry, in its distribution. It indicates whether the data is more concentrated on one side of the mean compared to the other. A symmetric distribution, like a normal distribution, has a balanced, bell-shaped curve with the mean, median, and mode all equal."
      ],
      "metadata": {
        "id": "gebsQnGN2Ge_"
      }
    },
    {
      "cell_type": "markdown",
      "source": [
        "19. What does it mean if a dataset is positively or negatively skewed?\n"
      ],
      "metadata": {
        "id": "hggz-O3o2YGR"
      }
    },
    {
      "cell_type": "markdown",
      "source": [
        "A positively skewed dataset has a longer tail on the right side, meaning that the distribution is pulled towards higher values. Conversely, a negatively skewed dataset has a longer tail on the left side, indicating a pull towards lower values.\n",
        "\n",
        "Positively Skewed:\n",
        "\n",
        "1. Visual Representation:\n",
        "The distribution is skewed to the right, with the tail stretching towards higher values.\n",
        "2. Mean vs. Median:\n",
        "The mean is usually greater than the median.\n",
        "3. Data Clustering:\n",
        "Most of the data points are clustered towards the left side of the distribution.\n",
        "4. Example:\n",
        "Income distributions often show a positive skew, where a few individuals have extremely high incomes, pulling the mean higher than the median.\n",
        "\n",
        "Negatively Skewed:\n",
        "\n",
        "1. Visual Representation:\n",
        "The distribution is skewed to the left, with the tail stretching towards lower values.\n",
        "2. Mean vs. Median:\n",
        "The mean is usually less than the median.\n",
        "3. Data Clustering:\n",
        "Most of the data points are clustered towards the right side of the distribution.\n",
        "4. Example:\n",
        "Test scores can be negatively skewed if most students score relatively high, with only a few students scoring very low, making the median larger than the mean."
      ],
      "metadata": {
        "id": "SLq0mZxx2fxD"
      }
    },
    {
      "cell_type": "markdown",
      "source": [
        "20. Define and explain kurtosis?"
      ],
      "metadata": {
        "id": "PizsJjjA3WzD"
      }
    },
    {
      "cell_type": "markdown",
      "source": [
        "Kurtosis is a statistical measure that describes the tailedness of a probability distribution. It indicates how much of the distribution's data is clustered around the mean (peakedness) or in the tails (outliers) compared to a normal distribution.\n",
        "\n",
        "Here's a breakdown:\n",
        "\n",
        "1. Normal Distribution:\n",
        "A normal distribution has a kurtosis of 3 (or 0 in excess kurtosis). This serves as a baseline for comparison.\n",
        "2. Leptokurtic (Positive Kurtosis):\n",
        "Distributions with kurtosis greater than 3 (or a positive excess kurtosis) have heavier tails and a sharper peak than a normal distribution. This means they have more outliers or extreme values.\n",
        "3. Platykurtic (Negative Kurtosis):\n",
        "Distributions with kurtosis less than 3 (or a negative excess kurtosis) have lighter tails and a flatter peak than a normal distribution. This indicates fewer outliers.\n",
        "\n",
        "In simpler terms: Kurtosis helps you understand how \"peaked\" or \"flat\" a distribution is, and how likely it is to have extreme values (outliers). It's a valuable tool for analyzing data, particularly in finance and risk management, to assess the potential for extreme price movements or other unusual events."
      ],
      "metadata": {
        "id": "_FKTX1tF3cfE"
      }
    },
    {
      "cell_type": "markdown",
      "source": [
        "21. What is the purpose of covariance?"
      ],
      "metadata": {
        "id": "dMrLRjKu3zke"
      }
    },
    {
      "cell_type": "markdown",
      "source": [
        "The covariance equation is used to determine the direction of the relationship between two variables—in other words, whether they tend to move in the same or opposite directions."
      ],
      "metadata": {
        "id": "N184k9tC36dv"
      }
    },
    {
      "cell_type": "markdown",
      "source": [
        "22. What does correlation measure in statistics?"
      ],
      "metadata": {
        "id": "MwgW4peY4bcc"
      }
    },
    {
      "cell_type": "markdown",
      "source": [
        "In statistics, correlation measures the strength and direction of a linear relationship between two variables. It indicates how much one variable tends to change with changes in the other, but it does not imply causation.\n",
        "\n",
        "Key aspects of correlation:\n",
        "1. Strength:\n",
        "The correlation coefficient (often denoted by 'r') ranges from -1 to +1. Values closer to -1 or +1 indicate a stronger linear relationship, while values close to 0 indicate a weaker or no linear relationship.\n",
        "2. Direction:\n",
        "\n",
        "(A). Positive correlation: When one variable increases, the other tends to increase as well (and vice versa).\n",
        "\n",
        "(B).Negative correlation: When one variable increases, the other tends to decrease, and vice versa.\n",
        "3. Linearity:\n",
        "Correlation primarily measures linear relationships, meaning that the relationship can be represented by a straight line.\n",
        "4. No causation:\n",
        "A correlation between two variables does not mean that one causes the other. There could be other factors influencing both variables."
      ],
      "metadata": {
        "id": "FuaLpi7C4hR2"
      }
    },
    {
      "cell_type": "markdown",
      "source": [
        "23. What is the difference between covariance and correlation?"
      ],
      "metadata": {
        "id": "667QVWu25TV9"
      }
    },
    {
      "cell_type": "markdown",
      "source": [
        "Covariance measures the extent to which two variables vary together, while correlation measures the strength and direction of their relationship. Covariance can have any value, while correlation is standardized to range between -1 and 1.\n",
        "\n",
        "Here's a more detailed breakdown:\n",
        "1. Covariance:\n",
        "(A). Measures how much two variables change together. It indicates whether the variables move in the same direction (positive covariance) or opposite directions (negative covariance).\n",
        "\n",
        "(B). Not standardized. The value of covariance can be influenced by the scale of the variables, making it difficult to compare across different datasets or variables with different units.\n",
        "\n",
        "(C). Can be any real number. .\n",
        "2. Correlation:\n",
        "\n",
        "(A). Measures the strength and direction of a linear relationship between two variables. A correlation of 1 indicates a perfect positive linear relationship, -1 indicates a perfect negative linear relationship, and 0 indicates no linear relationship.\n",
        "\n",
        "(B). Standardized. Correlation is normalized to range between -1 and 1, making it easy to interpret and compare across different datasets.\n",
        "\n",
        "(C). Always falls within the range of -1 to 1. ."
      ],
      "metadata": {
        "id": "MbTIp_aF5aNW"
      }
    },
    {
      "cell_type": "markdown",
      "source": [
        "24. What are some real-world applications of statistics?"
      ],
      "metadata": {
        "id": "FFvUBWKS6R9-"
      }
    },
    {
      "cell_type": "markdown",
      "source": [
        "Statistics are used in a wide variety of fields to analyze data, identify trends, and make informed decisions. Some examples include:\n",
        "1. Business:\n",
        "Analyzing sales data, market trends, and customer behavior.\n",
        "2. Healthcare:\n",
        "Conducting clinical trials, analyzing patient data, and understanding disease patterns.\n",
        "3. Finance:\n",
        "Assessing investment risks, predicting market fluctuations, and developing financial models.\n",
        "4. Government:\n",
        "Analyzing census data, tracking crime rates, and evaluating the effectiveness of policies.\n",
        "5. Education:\n",
        "Evaluating student performance, determining the effectiveness of teaching methods, and tracking graduation rates.\n",
        "6. Sports:\n",
        "Analyzing player statistics, predicting game outcomes, and evaluating team performance.\n",
        "7. Environmental Science:\n",
        "Monitoring pollution levels, tracking climate change trends, and assessing the impact of natural disasters."
      ],
      "metadata": {
        "id": "8t8dFJu46Ux_"
      }
    },
    {
      "cell_type": "markdown",
      "source": [
        "#Statistics Basics Assignment(Practical)"
      ],
      "metadata": {
        "id": "ICEdVSRm67gu"
      }
    },
    {
      "cell_type": "markdown",
      "source": [
        "1. How do you calculate the mean, median, and mode of a dataset?"
      ],
      "metadata": {
        "id": "ef9pocug7CV3"
      }
    },
    {
      "cell_type": "code",
      "source": [
        "import numpy as np\n",
        "from statistics import mode\n",
        "\n",
        "data = [10, 20, 30, 40, 50]\n",
        "\n",
        "mean = np.mean(data)\n",
        "median = np.median(data)\n",
        "mode_value = mode(data)\n",
        "\n",
        "print(\"Mean:\", mean)\n",
        "print(\"Median:\", median)\n",
        "print(\"Mode:\", mode_value)\n"
      ],
      "metadata": {
        "colab": {
          "base_uri": "https://localhost:8080/"
        },
        "id": "vK1N6N8mpfwH",
        "outputId": "05c9415f-8fc7-4831-ad8a-e2dc16ab439a"
      },
      "execution_count": null,
      "outputs": [
        {
          "output_type": "stream",
          "name": "stdout",
          "text": [
            "Mean: 30.0\n",
            "Median: 30.0\n",
            "Mode: 10\n"
          ]
        }
      ]
    },
    {
      "cell_type": "markdown",
      "source": [
        "2. Write a Python program to compute the variance and standard deviation of a dataset?"
      ],
      "metadata": {
        "id": "2JoHIRoyqazR"
      }
    },
    {
      "cell_type": "code",
      "source": [
        "import numpy as np\n",
        "\n",
        "data = [10, 20, 30, 40, 50]\n",
        "\n",
        "variance = np.var(data)\n",
        "\n",
        "std_deviation = np.std(data)\n",
        "\n",
        "print(\"Variance:\", variance)\n",
        "print(\"Standard Deviation:\", std_deviation)"
      ],
      "metadata": {
        "colab": {
          "base_uri": "https://localhost:8080/"
        },
        "id": "aC7vgUn4qgpx",
        "outputId": "5576445a-f4c8-40e1-f5d9-a62085a6831e"
      },
      "execution_count": null,
      "outputs": [
        {
          "output_type": "stream",
          "name": "stdout",
          "text": [
            "Variance: 200.0\n",
            "Standard Deviation: 14.142135623730951\n"
          ]
        }
      ]
    },
    {
      "cell_type": "markdown",
      "source": [
        "3. Create a dataset and classify it into nominal, ordinal, interval, and ratio types?"
      ],
      "metadata": {
        "id": "u5QZsXtLrU0p"
      }
    },
    {
      "cell_type": "code",
      "source": [
        "dataset = {\n",
        "    \"Name\": [\"Abhay\", \"Bob\", \"Charlie\", \"Rohit\"],  # Nominal\n",
        "    \"Education Level\": [\"High School\", \"Bachelor's\", \"Master's\", \"PhD\"],  # Ordinal\n",
        "    \"Temperature (C)\": [36.6, 37.0, 36.8, 37.2],  # Interval Ordinal\n",
        "    \"Height (cm)\": [160, 175, 168, 180]  # Ratio\n",
        "}"
      ],
      "metadata": {
        "id": "e8S6xmpyredk"
      },
      "execution_count": null,
      "outputs": []
    },
    {
      "cell_type": "markdown",
      "source": [
        "4. Implement sampling techniques like random sampling and stratified sampling?"
      ],
      "metadata": {
        "id": "T_8QX_eZtpWP"
      }
    },
    {
      "cell_type": "code",
      "source": [
        "import pandas as pd\n",
        "import numpy as np\n",
        "from sklearn.model_selection import train_test_split\n",
        "\n",
        "# Sample dataset\n",
        "data = {\n",
        "    'Name': ['Alice', 'Bob', 'Charlie', 'David', 'Eve', 'Frank'],\n",
        "    'Education Level': ['High School', 'Intermediate', 'Bachelor', 'Master', 'PhD', 'Diploma'],\n",
        "    'Score': [65, 75, 85, 90, 70, 88]\n",
        "}\n",
        "\n",
        "df = pd.DataFrame(data)\n",
        "\n",
        "random_sample = df.sample(frac=0.5, random_state=1)\n",
        "print(\"Random Sample:\\n\", random_sample)\n",
        "\n",
        "# Stratified Sampling Based on 'Education Level'\n",
        "# First, encode 'Education Level' to use with stratify\n",
        "df['Education_Code'] = df['Education Level'].astype('category').cat.codes\n",
        "\n",
        "# Perform stratified sampling (80% train, 20% test) using Education_Code\n",
        "train, test = train_test_split(df, test_size=0.2, random_state=3)\n",
        "\n",
        "print(\"\\nStratified Sampling (Training Set):\\n\", train)\n",
        "print(\"\\nStratified Sampling (Test Set):\\n\", test)"
      ],
      "metadata": {
        "colab": {
          "base_uri": "https://localhost:8080/"
        },
        "id": "lK6soUvauA86",
        "outputId": "82230f25-09d6-4125-a631-b7fece774b94"
      },
      "execution_count": null,
      "outputs": [
        {
          "output_type": "stream",
          "name": "stdout",
          "text": [
            "Random Sample:\n",
            "       Name Education Level  Score\n",
            "2  Charlie        Bachelor     85\n",
            "1      Bob    Intermediate     75\n",
            "4      Eve             PhD     70\n",
            "\n",
            "Stratified Sampling (Training Set):\n",
            "       Name Education Level  Score  Education_Code\n",
            "4      Eve             PhD     70               5\n",
            "1      Bob    Intermediate     75               3\n",
            "0    Alice     High School     65               2\n",
            "2  Charlie        Bachelor     85               0\n",
            "\n",
            "Stratified Sampling (Test Set):\n",
            "     Name Education Level  Score  Education_Code\n",
            "3  David          Master     90               4\n",
            "5  Frank         Diploma     88               1\n"
          ]
        }
      ]
    },
    {
      "cell_type": "markdown",
      "source": [
        "5. Write a Python function to calculate the range of a dataset?"
      ],
      "metadata": {
        "id": "0qlu0cg70HHR"
      }
    },
    {
      "cell_type": "code",
      "source": [
        "def calculate_range(data):\n",
        "    \"\"\"\n",
        "    This function takes a list of numerical values as input and returs the range (max - min) of the dataset.\n",
        "    \"\"\"\n",
        "    if not data:\n",
        "       return None  # Handle empty list case\n",
        "    return max(data) - min(data)\n",
        "\n",
        "# Example Usage\n",
        "sample_data = [75, 85, 65, 90, 88]\n",
        "print(\"Range of Dataset:\", calculate_range(sample_data))"
      ],
      "metadata": {
        "colab": {
          "base_uri": "https://localhost:8080/"
        },
        "id": "rhZy7e2q1Nnr",
        "outputId": "b513b4cf-8522-4f99-fb79-d86606a7586d"
      },
      "execution_count": null,
      "outputs": [
        {
          "output_type": "stream",
          "name": "stdout",
          "text": [
            "Range of Dataset: 25\n"
          ]
        }
      ]
    },
    {
      "cell_type": "markdown",
      "source": [
        "6. Create a dataset and plot its histogram to visualize skewness?"
      ],
      "metadata": {
        "id": "GdBwekw52v-5"
      }
    },
    {
      "cell_type": "code",
      "source": [
        "import matplotlib.pyplot as plt\n",
        "import numpy as np\n",
        "\n",
        "# Create a right-skewed dataset (positive skew)\n",
        "data = np.random.exponential(scale=2.0, size=1000)\n",
        "\n",
        "# Plot Histogram\n",
        "plt.figure(figsize=(8, 6))\n",
        "plt.hist(data, bins=30, color='darkgreen', edgecolor='black')\n",
        "plt.title('Histogram to visualize Skewness')\n",
        "plt.xlabel('Value')\n",
        "plt.ylabel('Frequency')\n",
        "plt.grid(True)\n",
        "plt.show()"
      ],
      "metadata": {
        "colab": {
          "base_uri": "https://localhost:8080/",
          "height": 564
        },
        "id": "a4haIlaN21hK",
        "outputId": "8d1df7f5-724c-410f-9920-d916cb91b097"
      },
      "execution_count": null,
      "outputs": [
        {
          "output_type": "display_data",
          "data": {
            "text/plain": [
              "<Figure size 800x600 with 1 Axes>"
            ],
            "image/png": "[encoded data removed]"
          },
          "metadata": {}
        }
      ]
    },
    {
      "cell_type": "markdown",
      "source": [
        "7. Calculate skewness and kurtosis of a dataset using Python libraries?"
      ],
      "metadata": {
        "id": "BFYzOZ6b4WNM"
      }
    },
    {
      "cell_type": "code",
      "source": [
        "import numpy as np\n",
        "from scipy.stats import skew, kurtosis\n",
        "\n",
        "# Create a sample dataset\n",
        "data = np.random.exponential(scale=2.0, size=1000)\n",
        "\n",
        "# Calculate skewness and kurtosis\n",
        "data_skewness = skew(data)\n",
        "data_kurtosis = kurtosis(data)\n",
        "\n",
        "print(\"Skewness of dataset:\", data_skewness)\n",
        "print(\"Kurtosis of dataset:\", data_kurtosis)"
      ],
      "metadata": {
        "colab": {
          "base_uri": "https://localhost:8080/"
        },
        "id": "pW1KL-tt4cfr",
        "outputId": "050697eb-653d-4afb-e3f1-9046f251c6b9"
      },
      "execution_count": null,
      "outputs": [
        {
          "output_type": "stream",
          "name": "stdout",
          "text": [
            "Skewness of dataset: 1.7284184424316242\n",
            "Kurtosis of dataset: 3.4836962276839234\n"
          ]
        }
      ]
    },
    {
      "cell_type": "markdown",
      "source": [
        "8. Generate a dataset and demonstrate positive and negative skewness?"
      ],
      "metadata": {
        "id": "_rgPqrQJ5bq8"
      }
    },
    {
      "cell_type": "code",
      "source": [
        "import numpy as np\n",
        "import matplotlib.pyplot as plt\n",
        "from scipy.stats import skew\n",
        "\n",
        "# Generate datasets\n",
        "positive_skew_data = np.random.normal(scale=2.0, size=1000)\n",
        "negative_skew_data = np.random.normal(scale=1, size=1000) + 10 # Flip and Shift\n",
        "\n",
        "# Calculate skewness\n",
        "print(\"Skewness of positive skewed data:\", skew(positive_skew_data))\n",
        "print(\"Skewness of negative skewed data:\", skew(negative_skew_data))\n",
        "\n",
        "# Plot histograms\n",
        "plt.figure(figsize=(12, 6))\n",
        "\n",
        "# Positive Skew\n",
        "plt.subplot(1, 2, 1)\n",
        "plt.hist(positive_skew_data, bins=30, color='brown', edgecolor='black')\n",
        "plt.title('Positive Skewness')\n",
        "plt.xlabel('Value')\n",
        "plt.ylabel('Frequency')\n",
        "\n",
        "# Negative Skew\n",
        "plt.subplot(1, 2, 2)\n",
        "plt.hist(negative_skew_data, bins=30, color='purple', edgecolor='black')\n",
        "plt.title('Negative Skewness')\n",
        "plt.xlabel('Value')\n",
        "plt.ylabel('Frequency')\n",
        "\n",
        "plt.tight_layout()\n",
        "plt.show()\n"
      ],
      "metadata": {
        "colab": {
          "base_uri": "https://localhost:8080/",
          "height": 642
        },
        "id": "i_LWRujm5haL",
        "outputId": "a864768a-ae63-4039-8d5e-b9f7d7ee5ad0"
      },
      "execution_count": null,
      "outputs": [
        {
          "output_type": "stream",
          "name": "stdout",
          "text": [
            "Skewness of positive skewed data: -0.033623752836114774\n",
            "Skewness of negative skewed data: 0.013581236566466348\n"
          ]
        },
        {
          "output_type": "display_data",
          "data": {
            "text/plain": [
              "<Figure size 1200x600 with 2 Axes>"
            ],
            "image/png": "[encoded data removed]"
          },
          "metadata": {}
        }
      ]
    },
    {
      "cell_type": "markdown",
      "source": [
        "9. Write a Python script to calculate covariance between two datasets?"
      ],
      "metadata": {
        "id": "jEFQASxJ8iqo"
      }
    },
    {
      "cell_type": "code",
      "source": [
        "import numpy as np\n",
        "\n",
        "# Create two sample datasets\n",
        "x = np.array([2, 4, 6, 8, 10])\n",
        "y = np.array([1, 3, 2, 5, 7])\n",
        "\n",
        "# Calculate the covariance matrix\n",
        "cov_matrix = np.cov(x, y)\n",
        "\n",
        "# Extract the covariance value\n",
        "cov_xy = cov_matrix[0, 1]\n",
        "\n",
        "print(\"Covariance between x and y:\", cov_xy)"
      ],
      "metadata": {
        "colab": {
          "base_uri": "https://localhost:8080/"
        },
        "id": "j0kBtt6l8tAp",
        "outputId": "db916519-8634-48fe-ead2-484d8b5024a8"
      },
      "execution_count": null,
      "outputs": [
        {
          "output_type": "stream",
          "name": "stdout",
          "text": [
            "Covariance between x and y: 7.0\n"
          ]
        }
      ]
    },
    {
      "cell_type": "markdown",
      "source": [
        "10. Write a Python script to calculate the correlation coefficient between two datasets?"
      ],
      "metadata": {
        "id": "EyODsXk990O7"
      }
    },
    {
      "cell_type": "code",
      "source": [
        "import numpy as np\n",
        "\n",
        "# Create two sample datasets\n",
        "x = np.array([2, 4, 6, 8, 10])\n",
        "y = np.array([1, 3, 2, 5, 7])\n",
        "\n",
        "# Calculate the correlation coefficient matrix\n",
        "corr_matrix = np.corrcoef(x, y)\n",
        "\n",
        "# Extract the correlation coefficient value\n",
        "corr_xy = corr_matrix[0, 1]\n",
        "\n",
        "print(\"Correlation coefficient between x and y:\", corr_xy)"
      ],
      "metadata": {
        "colab": {
          "base_uri": "https://localhost:8080/"
        },
        "id": "eiaEQ0Xt959r",
        "outputId": "58efffe6-2e32-406b-f21e-92a7c938179f"
      },
      "execution_count": null,
      "outputs": [
        {
          "output_type": "stream",
          "name": "stdout",
          "text": [
            "Correlation coefficient between x and y: 0.9191450300180578\n"
          ]
        }
      ]
    },
    {
      "cell_type": "markdown",
      "source": [
        "11. Create a scatter plot to visualize the relationship between two variables?"
      ],
      "metadata": {
        "id": "XMRhKgaq-os0"
      }
    },
    {
      "cell_type": "code",
      "source": [
        "import numpy as np\n",
        "import matplotlib.pyplot as plt\n",
        "\n",
        "# Create two sample datasets\n",
        "x = np.array([2, 4, 6, 8, 10])\n",
        "y = np.array([1, 3, 2, 5, 7])\n",
        "\n",
        "# Create a scatter plot\n",
        "plt.scatter(x, y, color='blue', marker='x')\n",
        "plt.title('Scatter Plot of X vs. Y')\n",
        "plt.xlabel('X values')\n",
        "plt.ylabel('Y values')\n",
        "plt.grid(True)\n",
        "plt.show()"
      ],
      "metadata": {
        "colab": {
          "base_uri": "https://localhost:8080/",
          "height": 472
        },
        "id": "3lZpWFKv-uv8",
        "outputId": "abb97dd5-0657-4dce-d959-973fa1b2cc39"
      },
      "execution_count": null,
      "outputs": [
        {
          "output_type": "display_data",
          "data": {
            "text/plain": [
              "<Figure size 640x480 with 1 Axes>"
            ],
            "image/png": "[encoded data removed]"
          },
          "metadata": {}
        }
      ]
    },
    {
      "cell_type": "markdown",
      "source": [
        "12. Implement and compare simple random sampling and systematic sampling?"
      ],
      "metadata": {
        "id": "Gi-ZR2ws_3Yf"
      }
    },
    {
      "cell_type": "code",
      "source": [
        "import numpy as np\n",
        "import pandas as pd\n",
        "\n",
        "# Create a sample dataset\n",
        "data = pd.DataFrame({\n",
        "    'ID': np.arange(1, 101),  # 100 data points\n",
        "    'Value': np.random.randint(10, 100, size=100)\n",
        "})\n",
        "\n",
        "# ___Simple Random Sampling ___\n",
        "def simple_random_sample(data, sample_size):\n",
        "    return data.sample(n=sample_size, random_state=42)\n",
        "\n",
        "# ___Systematic Sampling ___\n",
        "def systematic_sampling(data, sample_size):\n",
        "    step = len(data) // sample_size\n",
        "    indices = np.arange(0, len(data), step)\n",
        "    return data.iloc[indices[:sample_size]]\n",
        "\n",
        "# Sample size\n",
        "sample_size = 10\n",
        "\n",
        "# Perform sampling\n",
        "simple_sample = simple_random_sample(data, sample_size)\n",
        "systematic_sample = systematic_sampling(data, sample_size)\n",
        "\n",
        "# Display results\n",
        "print(\"Simple Random Sample:\\n\", simple_sample)\n",
        "print(\"\\nSystematic Sample:\\n\", systematic_sample)"
      ],
      "metadata": {
        "colab": {
          "base_uri": "https://localhost:8080/"
        },
        "id": "d6Qk-3MJ_8QA",
        "outputId": "4a18d7f6-d783-46b0-8f4e-8ed8a4a77531"
      },
      "execution_count": null,
      "outputs": [
        {
          "output_type": "stream",
          "name": "stdout",
          "text": [
            "Simple Random Sample:\n",
            "     ID  Value\n",
            "83  84     44\n",
            "53  54     43\n",
            "70  71     23\n",
            "45  46     25\n",
            "44  45     96\n",
            "39  40     26\n",
            "22  23     39\n",
            "80  81     99\n",
            "10  11     86\n",
            "0    1     21\n",
            "\n",
            "Systematic Sample:\n",
            "     ID  Value\n",
            "0    1     21\n",
            "10  11     86\n",
            "20  21     57\n",
            "30  31     65\n",
            "40  41     11\n",
            "50  51     99\n",
            "60  61     36\n",
            "70  71     23\n",
            "80  81     99\n",
            "90  91     45\n"
          ]
        }
      ]
    },
    {
      "cell_type": "markdown",
      "source": [
        "13. Calculate the mean, median, and mode of grouped data?"
      ],
      "metadata": {
        "id": "ZdaBm6A3CuNC"
      }
    },
    {
      "cell_type": "code",
      "source": [
        "# Class intervals and frequencies\n",
        "class_intervals = [(0, 10), (10, 20), (20, 30), (30, 40), (40, 50)]\n",
        "frequencies = [5, 8, 15, 16, 6]\n",
        "\n",
        "# Midpoints\n",
        "Midpoints = [(l + u) / 2 for l, u in class_intervals]\n",
        "\n",
        "# Total Frequency\n",
        "N = sum(frequencies)\n",
        "\n",
        "# Calculate mean\n",
        "fx = [f * x for f, x in zip(frequencies, Midpoints)]\n",
        "mean = sum(fx) / N\n",
        "\n",
        "# Cumulative frequencies\n",
        "cumulative_frequencies = []\n",
        "cumsum = 0\n",
        "for f in frequencies:\n",
        "    cumsum += f\n",
        "    cumulative_frequencies.append(cumsum)\n",
        "\n",
        "# Find median class\n",
        "half_N = N / 2\n",
        "for i, cum_freq in enumerate(cumulative_frequencies):\n",
        "    if cum_freq >= half_N:\n",
        "        median_class_index = i\n",
        "        break\n",
        "\n",
        "L = class_intervals[median_class_index][0]\n",
        "F = cumulative_frequencies[median_class_index - 1] if median_class_index > 0 else 0\n",
        "f = frequencies[median_class_index]\n",
        "h = class_intervals[median_class_index][1] - class_intervals[median_class_index][0]\n",
        "\n",
        "# Calculate median\n",
        "median = L + ((half_N - F) / f) * h\n",
        "\n",
        "# Find modal class\n",
        "modal_class_index = frequencies.index(max(frequencies))\n",
        "L_mode = class_intervals[modal_class_index] [0]\n",
        "f1 = frequencies[modal_class_index]\n",
        "f0 = frequencies[modal_class_index - 1] if modal_class_index > 0 else 0\n",
        "f2 = frequencies[modal_class_index + 1] if modal_class_index < len(frequencies) - 1 else 0\n",
        "\n",
        "# Calculate mode\n",
        "mode = L_mode + ((f1 - f0) / (2 * f1 - f0 - f2)) * h\n",
        "\n",
        "# Display results\n",
        "print(f\"Mean    = {mean:.2f}\")\n",
        "print(f\"Median  = {median:.2f}\")\n",
        "print(f\"Mode    = {mode:.2f}\")\n"
      ],
      "metadata": {
        "id": "mzemeonrC8XL",
        "colab": {
          "base_uri": "https://localhost:8080/"
        },
        "outputId": "96c6292f-0de6-4b81-f481-efeb96bbb4e9"
      },
      "execution_count": null,
      "outputs": [
        {
          "output_type": "stream",
          "name": "stdout",
          "text": [
            "Mean    = 27.00\n",
            "Median  = 28.00\n",
            "Mode    = 30.91\n"
          ]
        }
      ]
    },
    {
      "cell_type": "markdown",
      "source": [
        "14. Simulate data using Python and calculate its central tendency and dispersion?"
      ],
      "metadata": {
        "id": "COp-Mp2exI2u"
      }
    },
    {
      "cell_type": "code",
      "source": [
        "import numpy as np\n",
        "import pandas as pd\n",
        "import matplotlib.pyplot as plt\n",
        "from scipy import stats\n",
        "\n",
        "# 1. Simulate random data (normal distribution)\n",
        "np.random.seed(0)\n",
        "data = np.random.normal(loc=50, scale=10, size=1000)  #mean=50, std=10, n=1000\n",
        "\n",
        "# 2. Group data into intervals (bins)\n",
        "bins = range(20, 90, 10)  #intervals like 20-30, 30-40, ...\n",
        "freq, bin_edges = np.histogram(data, bins=bins)\n",
        "\n",
        "# Create class intervals and midpoints\n",
        "class_intervals = list(zip(bin_edges[:-1], bin_edges[1:]))\n",
        "midpoints = [(l + u) / 2 for l, u in class_intervals]\n",
        "\n",
        "# Total Frequency\n",
        "N = sum(freq)\n",
        "\n",
        "# 3. Central Tendency\n",
        "\n",
        "# Mean\n",
        "mean = sum(f * x for f, x in zip(freq, midpoints)) / N\n",
        "\n",
        "# Cumulative frequencies\n",
        "cumulative_freq = np.cumsum(freq)\n",
        "\n",
        "# Median\n",
        "half_N = N / 2\n",
        "for i, cum in enumerate(cumulative_freq):\n",
        "    if cum >= half_N:\n",
        "        median_class_index = i\n",
        "        break\n",
        "\n",
        "L = class_intervals[median_class_index][0]\n",
        "F = cumulative_freq[median_class_index - 1] if median_class_index > 0 else 0\n",
        "f = freq[median_class_index]\n",
        "h = class_intervals[median_class_index][1] - class_intervals[median_class_index][0]\n",
        "median = L + ((half_N - F) / f) * h\n",
        "\n",
        "# Mode\n",
        "modal_class_index = np.argmax(freq)\n",
        "f1 = freq[modal_class_index]\n",
        "f0 = freq[modal_class_index - 1] if modal_class_index > 0 else 0\n",
        "f2 = freq[modal_class_index + 1] if modal_class_index < len(freq) - 1 else 0\n",
        "L_mode = class_intervals[modal_class_index][0]\n",
        "mode = L_mode + ((f1 - f0) / (2 * f1 - f0 - f2)) * h\n",
        "\n",
        "# 4. Dispersion Measures\n",
        "\n",
        "# Variance and Standard Deviation (using midpoints)\n",
        "mean_diff_sq = [(x - mean) ** 2 for x in midpoints]\n",
        "variance = sum(f * d for f, d in zip(freq, mean_diff_sq)) / N\n",
        "std_dev = np.sqrt(variance)  # Calculate standard deviation\n",
        "\n",
        "# Range\n",
        "data_range = data.max() - data.min()  # Calculate range\n",
        "\n",
        "# 5. Print results\n",
        "print(\"=== Central Tendency ===\")\n",
        "print(f\"Mean   = {mean:.2f}\")\n",
        "print(f\"Median = {median:.2f}\")\n",
        "print(f\"Mode   = {mode:.2f}\")\n",
        "\n",
        "print(\"\\n=== Dispersion ===\")\n",
        "print(f\"Variance       = {variance:.2f}\")\n",
        "print(f\"Standard Dev.  = {std_dev:.2f}\")\n",
        "print(f\"Range          = {data_range:.2f}\")"
      ],
      "metadata": {
        "colab": {
          "base_uri": "https://localhost:8080/"
        },
        "id": "As0NcRNnxQGN",
        "outputId": "05d93d2e-37ca-4a31-ff48-e66f8e5c7846"
      },
      "execution_count": null,
      "outputs": [
        {
          "output_type": "stream",
          "name": "stdout",
          "text": [
            "=== Central Tendency ===\n",
            "Mean   = 49.58\n",
            "Median = 49.35\n",
            "Mode   = 48.87\n",
            "\n",
            "=== Dispersion ===\n",
            "Variance       = 103.31\n",
            "Standard Dev.  = 10.16\n",
            "Range          = 58.05\n"
          ]
        }
      ]
    },
    {
      "cell_type": "markdown",
      "source": [
        "15. Use NumPy or pandas to summarize a dataset’s descriptive statistics?"
      ],
      "metadata": {
        "id": "ooqBesZg9HFt"
      }
    },
    {
      "cell_type": "code",
      "source": [
        "import numpy as np\n",
        "\n",
        "# Example data\n",
        "data = np.array([10, 20, 30, 40, 50])\n",
        "\n",
        "# Descriptive statistics\n",
        "print(\"Mean:\", np.mean(data))\n",
        "print(\"Median:\", np.median(data))\n",
        "print(\"Standard Deviation:\", np.std(data))\n",
        "print(\"Minimum:\", np.min(data))\n",
        "print(\"Maximum:\", np.max(data))\n",
        "print(\"25th Percentile:\", np.percentile(data, 25))\n",
        "print(\"75th Percentile:\", np.percentile(data, 75))\n"
      ],
      "metadata": {
        "colab": {
          "base_uri": "https://localhost:8080/"
        },
        "id": "ZZ-kV1Pr9QHW",
        "outputId": "68759b1c-1d02-4be3-9c0a-88b5e7a23779"
      },
      "execution_count": null,
      "outputs": [
        {
          "output_type": "stream",
          "name": "stdout",
          "text": [
            "Mean: 30.0\n",
            "Median: 30.0\n",
            "Standard Deviation: 14.142135623730951\n",
            "Minimum: 10\n",
            "Maximum: 50\n",
            "25th Percentile: 20.0\n",
            "75th Percentile: 40.0\n"
          ]
        }
      ]
    },
    {
      "cell_type": "markdown",
      "source": [
        "16. Plot a boxplot to understand the spread and identify outliers?"
      ],
      "metadata": {
        "id": "WU5akYzAAcBb"
      }
    },
    {
      "cell_type": "code",
      "source": [
        "import matplotlib.pyplot as plt\n",
        "import seaborn as sns\n",
        "import numpy as np\n",
        "\n",
        "# Simulate some data\n",
        "np.random.seed(10)\n",
        "data = np.random.normal(loc=50, scale=10, size=100)\n",
        "data = np.append(data, [100, 105]) # Add some outliers\n",
        "\n",
        "# Create a boxplot\n",
        "plt.figure(figsize=(8, 4))\n",
        "sns.boxplot(data=data, color='skyblue')\n",
        "plt.title(\"Boxplot of Sample Data\")\n",
        "plt.xlabel(\"Values\")\n",
        "plt.grid(True)\n",
        "plt.show()"
      ],
      "metadata": {
        "colab": {
          "base_uri": "https://localhost:8080/",
          "height": 396
        },
        "id": "hrs644KtBxKo",
        "outputId": "6095bc0f-4181-49db-fff4-606e0ff313e1"
      },
      "execution_count": null,
      "outputs": [
        {
          "output_type": "display_data",
          "data": {
            "text/plain": [
              "<Figure size 800x400 with 1 Axes>"
            ],
            "image/png": "[encoded data removed]"
          },
          "metadata": {}
        }
      ]
    },
    {
      "cell_type": "markdown",
      "source": [
        "17. Calculate the interquartile range (IQR) of a dataset?\n"
      ],
      "metadata": {
        "id": "rAYS75HBDIZh"
      }
    },
    {
      "cell_type": "code",
      "source": [
        "import numpy as np\n",
        "\n",
        "# Example dataset\n",
        "data = [12, 15, 14, 10, 18, 22, 23, 30, 35, 40]\n",
        "\n",
        "# Calculate Q1 (25th percentile) and Q3v(75th percentile)\n",
        "Q1 = np.percentile(data, 25)\n",
        "Q3 = np.percentile(data, 75)\n",
        "\n",
        "# Calculate IQR\n",
        "IQR = Q3 - Q1\n",
        "\n",
        "print(f\"Q1 (25th percentile): {Q1}\")\n",
        "print(f\"Q3 (75th percentile): {Q3}\")\n",
        "print(f\"Interquartile Range (IQR): {IQR}\")"
      ],
      "metadata": {
        "colab": {
          "base_uri": "https://localhost:8080/"
        },
        "id": "HAn90QdpDP81",
        "outputId": "b1a517d2-5e0e-4e3c-8bd5-4fea70f05387"
      },
      "execution_count": null,
      "outputs": [
        {
          "output_type": "stream",
          "name": "stdout",
          "text": [
            "Q1 (25th percentile): 14.25\n",
            "Q3 (75th percentile): 28.25\n",
            "Interquartile Range (IQR): 14.0\n"
          ]
        }
      ]
    },
    {
      "cell_type": "markdown",
      "source": [
        "18. Implement Z-score normalization and explain its significance?"
      ],
      "metadata": {
        "id": "nIEb3uIQp4Nr"
      }
    },
    {
      "cell_type": "code",
      "source": [
        "import numpy as np\n",
        "import pandas as pd\n",
        "from sklearn.preprocessing import StandardScaler\n",
        "\n",
        "# Sample Dataset\n",
        "data = {'Score': [50, 60, 70, 80, 90]}\n",
        "df = pd.DataFrame(data)\n",
        "\n",
        "# Calculate z-score manually\n",
        "mean = df['Score'].mean()\n",
        "std = df['Score'].std()\n",
        "df['Z_Score'] = (df['Score'] - mean) / std\n",
        "\n",
        "print(df)"
      ],
      "metadata": {
        "colab": {
          "base_uri": "https://localhost:8080/"
        },
        "id": "EIIkYm3OqCT8",
        "outputId": "79e9f485-174f-4c99-8506-f810ec3d5d4d"
      },
      "execution_count": 1,
      "outputs": [
        {
          "output_type": "stream",
          "name": "stdout",
          "text": [
            "   Score   Z_Score\n",
            "0     50 -1.264911\n",
            "1     60 -0.632456\n",
            "2     70  0.000000\n",
            "3     80  0.632456\n",
            "4     90  1.264911\n"
          ]
        }
      ]
    },
    {
      "cell_type": "markdown",
      "source": [
        "19. Compare two datasets using their standard deviations?"
      ],
      "metadata": {
        "id": "-6XXft6Qr062"
      }
    },
    {
      "cell_type": "code",
      "source": [
        "import numpy as np\n",
        "\n",
        "# Dataset A: More consistent\n",
        "data_a = [45, 47, 46, 44, 45, 46, 45]\n",
        "\n",
        "# Dataset B: More variable\n",
        "data_b = [30, 50, 20, 70, 90, 40, 60]\n",
        "\n",
        "# Calculate standard deviations\n",
        "std_a = np.std(data_a, ddof=1)\n",
        "std_b = np.std(data_b, ddof=1)\n",
        "\n",
        "print(\"Standard Deviation of Dataset A:\", std_a)\n",
        "print(\"Standard Deviation of Dataset B:\", std_b)\n",
        "\n",
        "# Compare\n",
        "if std_a < std_b:\n",
        "    print(\"Dataset A is more consistent (less variable) than Dataset B.\")\n",
        "else:\n",
        "    print(\"Dataset B is more consistent (less variable) than Dataset A.\")"
      ],
      "metadata": {
        "colab": {
          "base_uri": "https://localhost:8080/"
        },
        "id": "FvjIt78Rr-fG",
        "outputId": "d9be50eb-6836-47c3-e4cd-c8e94b00fdb7"
      },
      "execution_count": 2,
      "outputs": [
        {
          "output_type": "stream",
          "name": "stdout",
          "text": [
            "Standard Deviation of Dataset A: 0.9759000729485332\n",
            "Standard Deviation of Dataset B: 24.102953780654786\n",
            "Dataset A is more consistent (less variable) than Dataset B.\n"
          ]
        }
      ]
    },
    {
      "cell_type": "markdown",
      "source": [
        "20. Write a Python program to visualize covariance using a heatmap?"
      ],
      "metadata": {
        "id": "H47osOS6ugPW"
      }
    },
    {
      "cell_type": "code",
      "source": [
        "import numpy as np\n",
        "import pandas as pd\n",
        "import seaborn as sns\n",
        "import matplotlib.pyplot as plt\n",
        "\n",
        "# Sample dataset\n",
        "data = {\n",
        "    'Height': [150, 160, 165, 170, 175, 180, 185],\n",
        "    'Weight': [50, 60, 62, 65, 70, 72, 75],\n",
        "    'Age':    [25, 30, 28, 35, 40, 38, 42]\n",
        "}\n",
        "\n",
        "# Create DataFrame\n",
        "df = pd.DataFrame(data)\n",
        "\n",
        "# Calculate covariance matrix\n",
        "cov_matrix = df.cov()\n",
        "\n",
        "# Display covariance matrix\n",
        "print(\"Covariance Matrix:\\n\", cov_matrix)\n",
        "\n",
        "# Plot heatmap\n",
        "plt.figure(figsize=(8, 6))\n",
        "sns.heatmap(cov_matrix, annot=True, cmap='coolwarm', linewidths=0.5)\n",
        "plt.title(\"Covariance Heatmap\")\n",
        "plt.show()"
      ],
      "metadata": {
        "colab": {
          "base_uri": "https://localhost:8080/",
          "height": 632
        },
        "id": "uFweR1wYuk5O",
        "outputId": "2ee6ad43-0187-4868-9fa2-d97de38494ff"
      },
      "execution_count": 3,
      "outputs": [
        {
          "output_type": "stream",
          "name": "stdout",
          "text": [
            "Covariance Matrix:\n",
            "             Height      Weight        Age\n",
            "Height  145.238095  101.547619  73.333333\n",
            "Weight  101.547619   72.142857  51.833333\n",
            "Age      73.333333   51.833333  41.666667\n"
          ]
        },
        {
          "output_type": "display_data",
          "data": {
            "text/plain": [
              "<Figure size 800x600 with 2 Axes>"
            ],
            "image/png": "[encoded data removed]"
          },
          "metadata": {}
        }
      ]
    },
    {
      "cell_type": "markdown",
      "source": [
        "21. Use seaborn to create a correlation matrix for a dataset?"
      ],
      "metadata": {
        "id": "BMN4MMjpxhCj"
      }
    },
    {
      "cell_type": "code",
      "source": [
        "import pandas as pd\n",
        "import seaborn as sns\n",
        "import matplotlib.pyplot as plt\n",
        "\n",
        "# Sample dataset\n",
        "data = {\n",
        "    'Math': [85, 90, 78, 92, 88],\n",
        "    'Science': [89, 94, 76, 95, 91],\n",
        "    'English': [75, 80, 70, 85, 78],\n",
        "    'History': [65, 70, 60, 80, 68]\n",
        "}\n",
        "\n",
        "# Create a DataFrame\n",
        "df = pd.DataFrame(data)\n",
        "\n",
        "# Compute the correlation matrix\n",
        "corr_matrix = df.corr()\n",
        "\n",
        "# Print correlation matrix\n",
        "print(\"Correlation Matrix:\\n\", corr_matrix)\n",
        "\n",
        "# Create heatmap\n",
        "plt.figure(figsize=(8, 6))\n",
        "sns.heatmap(corr_matrix, annot=True, cmap='YlGnBu', linewidths=0.5)\n",
        "plt.title(\"Correlation Matrix Heatmap\")\n",
        "plt.show()"
      ],
      "metadata": {
        "colab": {
          "base_uri": "https://localhost:8080/",
          "height": 649
        },
        "id": "b2hakk0dxoMy",
        "outputId": "64e3a4db-aede-48e0-b91b-3d9a898616dc"
      },
      "execution_count": 6,
      "outputs": [
        {
          "output_type": "stream",
          "name": "stdout",
          "text": [
            "Correlation Matrix:\n",
            "              Math   Science   English   History\n",
            "Math     1.000000  0.981969  0.967558  0.898273\n",
            "Science  0.981969  1.000000  0.911412  0.821268\n",
            "English  0.967558  0.911412  1.000000  0.979103\n",
            "History  0.898273  0.821268  0.979103  1.000000\n"
          ]
        },
        {
          "output_type": "display_data",
          "data": {
            "text/plain": [
              "<Figure size 800x600 with 2 Axes>"
            ],
            "image/png": "[encoded data removed]"
          },
          "metadata": {}
        }
      ]
    },
    {
      "cell_type": "markdown",
      "source": [
        "22. Generate a dataset and implement both variance and standard deviation computations?\n"
      ],
      "metadata": {
        "id": "EPe2ZbjZ0o_2"
      }
    },
    {
      "cell_type": "code",
      "source": [
        "import numpy as np\n",
        "import pandas as pd\n",
        "\n",
        "# Step 1: Generate a dataset (e.g., random test scores)\n",
        "np.random.seed(42)  # for reproducibility\n",
        "scores = np.random.randint(50, 100, size=20)\n",
        "\n",
        "# Convert to DataFrame\n",
        "df = pd.DataFrame({'Test_Scores': scores})\n",
        "\n",
        "# Step 2: Compute Variance and standard deviation\n",
        "variance = df['Test_Scores'].var()\n",
        "std_dev = df['Test_Scores']. std()\n",
        "\n",
        "# Step 3: Display Results\n",
        "print(\"Generated Test Scores:\\n\", df['Test_Scores'].tolist())\n",
        "print(\"\\nVariance of Test Scores:\", round(variance, 2))\n",
        "print(\"Standard Deviation of Test Scores:\", round(std_dev, 2))"
      ],
      "metadata": {
        "colab": {
          "base_uri": "https://localhost:8080/"
        },
        "id": "D8q9pBFS0w9_",
        "outputId": "24886f3a-7b0a-427b-85ff-69bef837c52f"
      },
      "execution_count": 8,
      "outputs": [
        {
          "output_type": "stream",
          "name": "stdout",
          "text": [
            "Generated Test Scores:\n",
            " [88, 78, 64, 92, 57, 70, 88, 68, 72, 60, 60, 73, 85, 89, 73, 52, 71, 51, 73, 93]\n",
            "\n",
            "Variance of Test Scores: 172.34\n",
            "Standard Deviation of Test Scores: 13.13\n"
          ]
        }
      ]
    },
    {
      "cell_type": "markdown",
      "source": [
        "23. Visualize skewness and kurtosis using Python libraries like matplotlib or seaborn?"
      ],
      "metadata": {
        "id": "CWkqu_J73oT7"
      }
    },
    {
      "cell_type": "code",
      "source": [
        "import numpy as np\n",
        "import pandas as pd\n",
        "import seaborn as sns\n",
        "import matplotlib.pyplot as plt\n",
        "from scipy.stats import skew, kurtosis\n",
        "\n",
        "# Step 1: Generate synthetic data\n",
        "np.random.seed(42)\n",
        "data = np.random.normal(loc=50, scale=10, size=1000)\n",
        "\n",
        "# Step 2: Calculate skewness and kurtosis\n",
        "skewness = skew(data)\n",
        "kurt = kurtosis(data)  # Fisher's definition (normal == 0)\n",
        "\n",
        "# Step 3: Plot Distribution\n",
        "plt.figure(figsize=(10, 6))\n",
        "sns.histplot(data, bins=30, kde=True, color='skyblue')\n",
        "plt.title(f\"Distribution Plot\\nSkewness: {skewness:.2f} | Kurtosis: {kurt:.2f}\")\n",
        "plt.xlabel(\"Value\")\n",
        "plt.ylabel(\"Frequency\")\n",
        "plt.grid(True)\n",
        "plt.show()"
      ],
      "metadata": {
        "colab": {
          "base_uri": "https://localhost:8080/",
          "height": 585
        },
        "id": "C0cTgMun3v80",
        "outputId": "e3bf498f-64da-4f31-fd19-61dac37d3541"
      },
      "execution_count": 9,
      "outputs": [
        {
          "output_type": "display_data",
          "data": {
            "text/plain": [
              "<Figure size 1000x600 with 1 Axes>"
            ],
            "image/png": "[encoded data removed]"
          },
          "metadata": {}
        }
      ]
    },
    {
      "cell_type": "markdown",
      "source": [
        "24. Implement the Pearson and Spearman correlation coefficients for a dataset?"
      ],
      "metadata": {
        "id": "E1dwHU_I6ofT"
      }
    },
    {
      "cell_type": "code",
      "source": [
        "import pandas as pd\n",
        "from scipy.stats import pearsonr, spearmanr\n",
        "\n",
        "# Sample dataset\n",
        "data = {\n",
        "    'Hours_Studied': [1, 2, 3, 4, 5, 6, 7, 8],\n",
        "    'Test_Score': [55, 60, 65, 70, 75, 78, 82, 90]\n",
        "}\n",
        "\n",
        "# Create DataFrame\n",
        "df = pd.DataFrame(data)\n",
        "\n",
        "# Pearson Corrletion\n",
        "pearson_corr, _ = pearsonr(df['Hours_Studied'], df['Test_Score'])\n",
        "\n",
        "#Spearman Correlation\n",
        "spearman_corr, _ = spearmanr(df['Hours_Studied'], df['Test_Score'])\n",
        "\n",
        "# Output results\n",
        "print(\"Pearson Correlation Coefficient:\", round(pearson_corr, 3))\n",
        "print(\"Spearman Correlation Coefficient:\", round(spearman_corr, 3))"
      ],
      "metadata": {
        "colab": {
          "base_uri": "https://localhost:8080/"
        },
        "id": "lzKuTQFN62JJ",
        "outputId": "6da688e2-b9df-4c47-9008-19cfa3440530"
      },
      "execution_count": 10,
      "outputs": [
        {
          "output_type": "stream",
          "name": "stdout",
          "text": [
            "Pearson Correlation Coefficient: 0.996\n",
            "Spearman Correlation Coefficient: 1.0\n"
          ]
        }
      ]
    }
  ]
}